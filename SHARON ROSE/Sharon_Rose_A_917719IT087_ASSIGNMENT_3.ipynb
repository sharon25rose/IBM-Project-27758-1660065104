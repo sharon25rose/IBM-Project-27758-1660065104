{
  "nbformat": 4,
  "nbformat_minor": 0,
  "metadata": {
    "colab": {
      "provenance": [],
      "collapsed_sections": []
    },
    "kernelspec": {
      "name": "python3",
      "display_name": "Python 3"
    },
    "language_info": {
      "name": "python"
    }
  },
  "cells": [
    {
      "cell_type": "markdown",
      "source": [
        "**Answer the questions or complete the tasks outlined in bold below, use the specific method described if applicable.**\n"
      ],
      "metadata": {
        "id": "86PcjELTQmqH"
      }
    },
    {
      "cell_type": "markdown",
      "source": [
        "What is 7 to the power of 4?"
      ],
      "metadata": {
        "id": "j29ct16EQowe"
      }
    },
    {
      "cell_type": "code",
      "source": [
        "print(7**4)"
      ],
      "metadata": {
        "colab": {
          "base_uri": "https://localhost:8080/"
        },
        "id": "3MnLoam0b_3a",
        "outputId": "242080e4-4b43-4461-87a8-0d1b35e38941"
      },
      "execution_count": null,
      "outputs": [
        {
          "output_type": "stream",
          "name": "stdout",
          "text": [
            "2401\n"
          ]
        }
      ]
    },
    {
      "cell_type": "markdown",
      "source": [
        "**Split this string:**"
      ],
      "metadata": {
        "id": "mSkxSPmhRNHH"
      }
    },
    {
      "cell_type": "markdown",
      "source": [
        "   s = \"Hi there Sam!\""
      ],
      "metadata": {
        "id": "0tcDkIvkRs52"
      }
    },
    {
      "cell_type": "markdown",
      "source": [
        "**into a list.**"
      ],
      "metadata": {
        "id": "wejbHm_dR9pp"
      }
    },
    {
      "cell_type": "code",
      "source": [
        " s= \"Hi there Sam!\"\n",
        " s= s.split()"
      ],
      "metadata": {
        "id": "rV9XIAIRfGL-"
      },
      "execution_count": null,
      "outputs": []
    },
    {
      "cell_type": "code",
      "source": [
        "print(s)"
      ],
      "metadata": {
        "colab": {
          "base_uri": "https://localhost:8080/"
        },
        "id": "4exru9qNSYrC",
        "outputId": "47d2abf6-fdc9-46bc-f5b1-16de6402d24f"
      },
      "execution_count": null,
      "outputs": [
        {
          "output_type": "stream",
          "name": "stdout",
          "text": [
            "['Hi', 'there', 'Sam!']\n"
          ]
        }
      ]
    },
    {
      "cell_type": "markdown",
      "source": [
        "**Given the variables:**\n",
        "  \n",
        "  planet = \"Earth\"\n",
        "\n",
        "  diameter = 12742\n"
      ],
      "metadata": {
        "id": "RaLqomTzSh4T"
      }
    },
    {
      "cell_type": "markdown",
      "source": [],
      "metadata": {
        "id": "ioIFR6F5Svc_"
      }
    },
    {
      "cell_type": "markdown",
      "source": [
        "**Use .format() to print the following string:**\n",
        "\n",
        "The diameter of Earth is 12742 kilometers."
      ],
      "metadata": {
        "id": "nlo3nMlKSyBS"
      }
    },
    {
      "cell_type": "code",
      "source": [
        "planet = \"Earth\"\n",
        "diameter = 12742\n",
        "print(\"The diameter of {0} is {1} kilometers.\".format(planet,diameter))"
      ],
      "metadata": {
        "colab": {
          "base_uri": "https://localhost:8080/"
        },
        "id": "VfCxgBG1S2RG",
        "outputId": "26b7fad6-372c-48bd-c9e4-64d56881d9b1"
      },
      "execution_count": null,
      "outputs": [
        {
          "metadata": {
            "tags": null
          },
          "name": "stdout",
          "output_type": "stream",
          "text": [
            "The diameter of Earth is 12742 kilometers.\n"
          ]
        }
      ]
    },
    {
      "cell_type": "markdown",
      "source": [
        "**Given this nested list, use indexing to grab the word \"hello\"**"
      ],
      "metadata": {
        "id": "tPPCCzx8TGcr"
      }
    },
    {
      "cell_type": "code",
      "source": [
        "lst = [1,2,[3,4],[5,[100,200,['hello']],23,11],1,7]"
      ],
      "metadata": {
        "id": "XDBqvCunTJYu"
      },
      "execution_count": null,
      "outputs": []
    },
    {
      "cell_type": "code",
      "source": [
        "lst = [1,2,[3,4],[5,[100,200,['hello']],23,11],1,7]\n",
        "print(lst[3][1][2][0])"
      ],
      "metadata": {
        "colab": {
          "base_uri": "https://localhost:8080/"
        },
        "id": "QgfIZy2UTVex",
        "outputId": "5598f59b-5425-4ddd-e3a4-c889c54d55a7"
      },
      "execution_count": null,
      "outputs": [
        {
          "output_type": "stream",
          "name": "stdout",
          "text": [
            "hello\n"
          ]
        }
      ]
    },
    {
      "cell_type": "markdown",
      "source": [],
      "metadata": {
        "id": "JF72e6ZyTu1A"
      }
    },
    {
      "cell_type": "markdown",
      "source": [
        "**Given this nest dictionary grab the word \"hello\". Be prepared, this will be annoying/tricky**"
      ],
      "metadata": {
        "id": "LJuhxD18Tu4j"
      }
    },
    {
      "cell_type": "code",
      "source": [
        "d = {'k1':[1,2,3,{'tricky':['oh','man','inception',{'target':[1,2,3,'hello']}]}]}"
      ],
      "metadata": {
        "id": "yi3DBUsBT3ML"
      },
      "execution_count": null,
      "outputs": []
    },
    {
      "cell_type": "code",
      "source": [
        "d = {'k1':[1,2,3,{'tricky':['oh','man','inception',{'target':[1,2,3,'hello']}]}]}\n",
        "print(d['k1'][3]['tricky'][3]['target'][3])"
      ],
      "metadata": {
        "colab": {
          "base_uri": "https://localhost:8080/"
        },
        "id": "AZWy2_LOT7vc",
        "outputId": "1815e262-4582-4919-af04-472557f0016f"
      },
      "execution_count": null,
      "outputs": [
        {
          "output_type": "stream",
          "name": "stdout",
          "text": [
            "hello\n"
          ]
        }
      ]
    },
    {
      "cell_type": "markdown",
      "source": [
        "**What is the main difference between a tuple and a list?**\n",
        "\n",
        "tuples are immutable\n",
        "\n",
        "lists are mutable"
      ],
      "metadata": {
        "id": "u6J54EYWUENV"
      }
    },
    {
      "cell_type": "markdown",
      "source": [
        "**Create a function that grabs the email website domain from a string in the form:**\n",
        "\n",
        "user@domain.com"
      ],
      "metadata": {
        "id": "58Q14ldmUVU_"
      }
    },
    {
      "cell_type": "markdown",
      "source": [
        "**So for example, passing \"user@domain.com\" would return: domain.com**"
      ],
      "metadata": {
        "id": "DG_uhQyhUbRp"
      }
    },
    {
      "cell_type": "code",
      "source": [
        "def getWebsite(s):\n",
        "  return s.split(\"@\")[1]\n",
        "s = \"user@domain.com\"\n",
        "print(getWebsite(s))"
      ],
      "metadata": {
        "colab": {
          "base_uri": "https://localhost:8080/"
        },
        "id": "FZ-dvXAiUjhJ",
        "outputId": "b46fc0f9-6c83-4f22-a27f-1913a8c4705c"
      },
      "execution_count": null,
      "outputs": [
        {
          "output_type": "stream",
          "name": "stdout",
          "text": [
            "domain.com\n"
          ]
        }
      ]
    },
    {
      "cell_type": "markdown",
      "source": [
        "**Create a basic function that returns True if the word 'dog' is contained in the input string. Don't worry about edge cases like a punctuation being attached to the word dog, but do account for capitalization.**"
      ],
      "metadata": {
        "id": "2JAIz7cVUppU"
      }
    },
    {
      "cell_type": "code",
      "source": [
        "def checkWord(s):\n",
        "  return \"dog\" in s.lower()\n",
        "print(checkWord(\"I bought a Dog.\"))"
      ],
      "metadata": {
        "colab": {
          "base_uri": "https://localhost:8080/"
        },
        "id": "5vX_NIbTUs-3",
        "outputId": "9a9d3316-84a4-4a9d-9fe6-e25e3af6b6a3"
      },
      "execution_count": null,
      "outputs": [
        {
          "output_type": "stream",
          "name": "stdout",
          "text": [
            "True\n"
          ]
        }
      ]
    },
    {
      "cell_type": "markdown",
      "source": [
        "**Create a function that counts the number of times the word \"dog\" occurs in a string. Again ignore edge cases.**"
      ],
      "metadata": {
        "id": "AlfiKWgyUzUw"
      }
    },
    {
      "cell_type": "code",
      "source": [
        "def countWord(s):\n",
        "  return s.lower().count(\"dog\")\n",
        "print(countWord(\"I bought a Dog. The dog was cute and active.\"))"
      ],
      "metadata": {
        "colab": {
          "base_uri": "https://localhost:8080/"
        },
        "id": "aytXzF_wU1tn",
        "outputId": "aca948d7-2eaa-46f0-e448-da48a04c2ef4"
      },
      "execution_count": null,
      "outputs": [
        {
          "output_type": "stream",
          "name": "stdout",
          "text": [
            "2\n"
          ]
        }
      ]
    },
    {
      "cell_type": "markdown",
      "source": [
        "**Problem**\n",
        "\n",
        "**You are driving a little too fast, and a police officer stops you. Write a function to return one of 3 possible results: \"No ticket\", \"Small ticket\", or \"Big Ticket\"**. **If your speed is 60 or less, the result is \"No Ticket\". If speed is between 61 and 80 inclusive, the result is \"Small Ticket\".** **If speed is 81 or more, the result is \"Big Ticket\". Unless it is your birthday (encoded as a boolean value in the parameters of the function)** **-- on your birthday, your speed can be 5 higher in all cases.**"
      ],
      "metadata": {
        "id": "D9Y97_XRVB1L"
      }
    },
    {
      "cell_type": "code",
      "source": [
        "def caught_speeding(speed, is_birthday):\n",
        "    \n",
        "    if is_birthday:\n",
        "        speeding = speed - 5\n",
        "    else:\n",
        "        speeding = speed\n",
        "    \n",
        "    if speeding > 80:\n",
        "        return 'Big Ticket'\n",
        "    elif speeding > 60:\n",
        "        return 'Small Ticket'\n",
        "    else:\n",
        "        return 'No Ticket'\n",
        "print(caught_speeding(90,True))\n",
        "print(caught_speeding(65,False))"
      ],
      "metadata": {
        "colab": {
          "base_uri": "https://localhost:8080/"
        },
        "id": "05G71t_qVvEC",
        "outputId": "f06e8930-06d0-48f1-c3ff-692c5dabb16b"
      },
      "execution_count": null,
      "outputs": [
        {
          "output_type": "stream",
          "name": "stdout",
          "text": [
            "Big Ticket\n",
            "Small Ticket\n"
          ]
        }
      ]
    },
    {
      "cell_type": "markdown",
      "source": [
        "**Create an employee list with basic salary values(at least 5 values for 5 employees) and using a for loop retreive each employee salary and calculate total salary expenditure.**"
      ],
      "metadata": {
        "id": "8_wJ0O80V5BD"
      }
    },
    {
      "cell_type": "code",
      "source": [
        "n = int(input(\"Enter the number of Employees: \"))\n",
        "l = []\n",
        "for i in range(n):\n",
        "  basic = int(input(\"Enter basic pay for employee {0}: \".format(i+1)))\n",
        "  da = float(basic*0.25)\n",
        "  hra = float(basic*0.15)\n",
        "  pf = float((basic+da)*0.12)\n",
        "  ta = float(basic*0.075)\n",
        "  netpay = float(basic+da+hra+ta)\n",
        "  grosspay = float(netpay-pf)\n",
        "  l.append([basic,da,hra,pf,ta,netpay,grosspay])\n",
        "for i in range(n):\n",
        "  print(l[i][-1])"
      ],
      "metadata": {
        "colab": {
          "base_uri": "https://localhost:8080/"
        },
        "id": "6x_FkxAEV6zx",
        "outputId": "9ceec289-581e-46a5-e05e-99326cf02264"
      },
      "execution_count": null,
      "outputs": [
        {
          "output_type": "stream",
          "name": "stdout",
          "text": [
            "Enter the number of Employees: 5\n",
            "Enter basic pay for employee 1: 83000\n",
            "Enter basic pay for employee 2: 67000\n",
            "Enter basic pay for employee 3: 78000\n",
            "Enter basic pay for employee 4: 54000\n",
            "Enter basic pay for employee 5: 76000\n",
            "109975.0\n",
            "88775.0\n",
            "103350.0\n",
            "71550.0\n",
            "100700.0\n"
          ]
        }
      ]
    },
    {
      "cell_type": "markdown",
      "source": [
        "**Create two dictionaries in Python:**\n",
        "\n",
        "**First one to contain fields as Empid, Empname, Basicpay**\n",
        "\n",
        "**Second dictionary to contain fields as DeptName, DeptId.**\n",
        "\n",
        "**Combine both dictionaries.** "
      ],
      "metadata": {
        "id": "wRVDiYqHWEJ2"
      }
    },
    {
      "cell_type": "code",
      "source": [
        "d1 = {'Empid':1,'Empname':'ABC','Basicpay':45000}\n",
        "d2 = {'DeptName':'Information Technology','Deptid':2}\n",
        "print(d1)\n",
        "print(d2)\n",
        "d1.update(d2)\n",
        "print(d1)"
      ],
      "metadata": {
        "colab": {
          "base_uri": "https://localhost:8080/"
        },
        "id": "98ULqQg8XbDm",
        "outputId": "3c4e1a0b-52ad-4c38-dba5-47c39cfccec7"
      },
      "execution_count": null,
      "outputs": [
        {
          "output_type": "stream",
          "name": "stdout",
          "text": [
            "{'Empid': 1, 'Empname': 'ABC', 'Basicpay': 45000}\n",
            "{'DeptName': 'Information Technology', 'Deptid': 2}\n",
            "{'Empid': 1, 'Empname': 'ABC', 'Basicpay': 45000, 'DeptName': 'Information Technology', 'Deptid': 2}\n"
          ]
        }
      ]
    }
  ]
}